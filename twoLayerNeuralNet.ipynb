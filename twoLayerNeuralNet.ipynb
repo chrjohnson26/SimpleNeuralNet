{
 "cells": [
  {
   "cell_type": "code",
   "execution_count": 18,
   "metadata": {},
   "outputs": [],
   "source": [
    "import numpy as np\n",
    "import pandas as pd\n",
    "from matplotlib import pyplot"
   ]
  },
  {
   "cell_type": "code",
   "execution_count": 19,
   "metadata": {},
   "outputs": [],
   "source": [
    "# Downloaded from http://yann.lecun.com/exdb/mnist/\n",
    "trainingImages = \"/Users/christianjohnson/Library/CloudStorage/OneDrive-HarveyMuddCollege/Neural Net/train-images.idx3-ubyte\"\n",
    "trainingLabels = \"/Users/christianjohnson/Library/CloudStorage/OneDrive-HarveyMuddCollege/Neural Net/train-labels.idx1-ubyte\"\n",
    "testImages = \"/Users/christianjohnson/Library/CloudStorage/OneDrive-HarveyMuddCollege/Neural Net/t10k-images.idx3-ubyte\"\n",
    "testLabels = \"/Users/christianjohnson/Library/CloudStorage/OneDrive-HarveyMuddCollege/Neural Net/t10k-labels.idx1-ubyte\""
   ]
  },
  {
   "cell_type": "code",
   "execution_count": 20,
   "metadata": {},
   "outputs": [],
   "source": [
    "# Downloaded from https://www.kaggle.com/datasets/oddrationale/mnist-in-csv?resource=download\n",
    "mnistTraining = \"/Users/christianjohnson/Library/CloudStorage/OneDrive-HarveyMuddCollege/Neural Net/mnistCSV/mnist_train.csv\"\n",
    "mnistTest = \"/Users/christianjohnson/Library/CloudStorage/OneDrive-HarveyMuddCollege/Neural Net/mnistCSV/mnist_test.csv\"\n",
    "data = pd.read_csv(mnistTraining)"
   ]
  },
  {
   "cell_type": "code",
   "execution_count": 21,
   "metadata": {},
   "outputs": [],
   "source": [
    "data = np.array(data)\n",
    "# m - number of training images\n",
    "# n - label + intensity values of each pixel (28x28)\n",
    "m, n = data.shape\n",
    "\n",
    "# shuffle data\n",
    "np.random.shuffle(data)\n",
    "\n",
    "# initialize the dev set (first 1000 rows) and transpose\n",
    "devSet = data[:1000].T\n",
    "# seperate labels and values of the dev set\n",
    "devLabels = devSet[0]\n",
    "devVals = devSet[1:n] / 255.0 # normalizing values\n",
    "\n",
    "# initialize the training set [1000:] rows and transpose\n",
    "tSet = data[1000:].T\n",
    "# seperate labels and values of the training set\n",
    "tLabels = tSet[0]\n",
    "tVals = tSet[1:n] / 255.0 # normalizing values\n",
    "\n",
    "tRows, tCols = tVals.shape"
   ]
  },
  {
   "cell_type": "code",
   "execution_count": 22,
   "metadata": {},
   "outputs": [],
   "source": [
    "# initialization of weights and baises\n",
    "def initalization():\n",
    "    w1 = np.random.rand(10,784) - 0.5\n",
    "    b1 = np.random.rand(10,1) - 0.5\n",
    "    w2 = np.random.rand(10,10) - 0.5\n",
    "    b2 = np.random.rand(10,1) - 0.5\n",
    "    return w1, b1, w2, b2\n",
    "\n",
    "# reLu activation function\n",
    "def reLu(x):\n",
    "    if x > 0:\n",
    "        return x\n",
    "    return 0\n",
    "\n",
    "# softMax function\n",
    "def softMax(x):\n",
    "    return np.exp(x) / sum(np.exp(x))\n",
    "\n",
    "# Forward Propagation\n",
    "def forwardPropagation(w1, b1, w2, b2, x):\n",
    "    A0 = x\n",
    "    Z1 = np.dot(w1,A0) + b1\n",
    "    A1 = reLu(Z1)\n",
    "    Z2 = np.dot(w2,A1) + b2\n",
    "    A2 = softMax(Z2)\n",
    "    return Z1, A1, Z2, A2"
   ]
  }
 ],
 "metadata": {
  "kernelspec": {
   "display_name": "Python 3",
   "language": "python",
   "name": "python3"
  },
  "language_info": {
   "codemirror_mode": {
    "name": "ipython",
    "version": 3
   },
   "file_extension": ".py",
   "mimetype": "text/x-python",
   "name": "python",
   "nbconvert_exporter": "python",
   "pygments_lexer": "ipython3",
   "version": "3.10.6"
  }
 },
 "nbformat": 4,
 "nbformat_minor": 2
}
