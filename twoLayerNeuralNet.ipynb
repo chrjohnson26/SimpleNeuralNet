{
 "cells": [
  {
   "cell_type": "code",
   "execution_count": 2,
   "metadata": {},
   "outputs": [],
   "source": [
    "import numpy as np\n",
    "import pandas as pd\n",
    "from matplotlib import pyplot"
   ]
  },
  {
   "cell_type": "code",
   "execution_count": 3,
   "metadata": {},
   "outputs": [],
   "source": [
    "# Downloaded from http://yann.lecun.com/exdb/mnist/\n",
    "trainingImages = \"/Users/christianjohnson/Library/CloudStorage/OneDrive-HarveyMuddCollege/Neural Net/train-images.idx3-ubyte\"\n",
    "trainingLabels = \"/Users/christianjohnson/Library/CloudStorage/OneDrive-HarveyMuddCollege/Neural Net/train-labels.idx1-ubyte\"\n",
    "testImages = \"/Users/christianjohnson/Library/CloudStorage/OneDrive-HarveyMuddCollege/Neural Net/t10k-images.idx3-ubyte\"\n",
    "testLabels = \"/Users/christianjohnson/Library/CloudStorage/OneDrive-HarveyMuddCollege/Neural Net/t10k-labels.idx1-ubyte\""
   ]
  },
  {
   "cell_type": "code",
   "execution_count": 4,
   "metadata": {},
   "outputs": [],
   "source": [
    "# Downloaded from https://www.kaggle.com/datasets/oddrationale/mnist-in-csv?resource=download\n",
    "mnistTraining = \"/Users/christianjohnson/Library/CloudStorage/OneDrive-HarveyMuddCollege/Neural Net/mnistCSV/mnist_train.csv\"\n",
    "mnistTest = \"/Users/christianjohnson/Library/CloudStorage/OneDrive-HarveyMuddCollege/Neural Net/mnistCSV/mnist_test.csv\"\n",
    "data = pd.read_csv(mnistTraining)"
   ]
  },
  {
   "cell_type": "code",
   "execution_count": 6,
   "metadata": {},
   "outputs": [
    {
     "name": "stdout",
     "output_type": "stream",
     "text": [
      "r 784\n",
      "c 59000\n"
     ]
    }
   ],
   "source": [
    "data = np.array(data)\n",
    "# m - number of training images\n",
    "# n - label + intensity values of each pixel (28x28)\n",
    "m, n = data.shape\n",
    "\n",
    "# shuffle data\n",
    "np.random.shuffle(data)\n",
    "\n",
    "# initialize the dev set (first 1000 rows) and transpose\n",
    "devSet = data[:1000].T\n",
    "# seperate labels and values of the dev set\n",
    "devLabels = devSet[0]\n",
    "devVals = devSet[1:n] / 255.0 # normalizing values\n",
    "\n",
    "# initialize the training set [1000:] rows and transpose\n",
    "tSet = data[1000:].T\n",
    "# seperate labels and values of the training set\n",
    "tLabels = tSet[0]\n",
    "tVals = tSet[1:n] / 255.0 # normalizing values\n",
    "\n",
    "tRows, tCols = tVals.shape"
   ]
  }
 ],
 "metadata": {
  "kernelspec": {
   "display_name": "Python 3",
   "language": "python",
   "name": "python3"
  },
  "language_info": {
   "codemirror_mode": {
    "name": "ipython",
    "version": 3
   },
   "file_extension": ".py",
   "mimetype": "text/x-python",
   "name": "python",
   "nbconvert_exporter": "python",
   "pygments_lexer": "ipython3",
   "version": "3.10.6"
  }
 },
 "nbformat": 4,
 "nbformat_minor": 2
}
