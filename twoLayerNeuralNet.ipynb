{
 "cells": [
  {
   "cell_type": "code",
   "execution_count": 9,
   "metadata": {},
   "outputs": [],
   "source": [
    "import numpy as np\n",
    "import pandas as pd\n",
    "from matplotlib import pyplot"
   ]
  },
  {
   "cell_type": "code",
   "execution_count": 10,
   "metadata": {},
   "outputs": [],
   "source": [
    "# Downloaded from http://yann.lecun.com/exdb/mnist/\n",
    "trainingImages = \"/Users/christianjohnson/Library/CloudStorage/OneDrive-HarveyMuddCollege/Neural Net/train-images.idx3-ubyte\"\n",
    "trainingLabels = \"/Users/christianjohnson/Library/CloudStorage/OneDrive-HarveyMuddCollege/Neural Net/train-labels.idx1-ubyte\"\n",
    "testImages = \"/Users/christianjohnson/Library/CloudStorage/OneDrive-HarveyMuddCollege/Neural Net/t10k-images.idx3-ubyte\"\n",
    "testLabels = \"/Users/christianjohnson/Library/CloudStorage/OneDrive-HarveyMuddCollege/Neural Net/t10k-labels.idx1-ubyte\""
   ]
  },
  {
   "cell_type": "code",
   "execution_count": 11,
   "metadata": {},
   "outputs": [],
   "source": [
    "# Downloaded from https://www.kaggle.com/datasets/oddrationale/mnist-in-csv?resource=download\n",
    "mnistTraining = \"/Users/christianjohnson/Library/CloudStorage/OneDrive-HarveyMuddCollege/Neural Net/mnistCSV/mnist_train.csv\"\n",
    "mnistTest = \"/Users/christianjohnson/Library/CloudStorage/OneDrive-HarveyMuddCollege/Neural Net/mnistCSV/mnist_test.csv\"\n",
    "data = pd.read_csv(mnistTraining)"
   ]
  },
  {
   "cell_type": "code",
   "execution_count": 12,
   "metadata": {},
   "outputs": [],
   "source": [
    "data = np.array(data)\n",
    "# m - number of training images\n",
    "# n - label + intensity values of each pixel (28x28)\n",
    "m, n = data.shape\n",
    "\n",
    "# shuffle data\n",
    "np.random.shuffle(data)\n",
    "\n",
    "# initialize the dev set (first 1000 rows) and transpose\n",
    "devSet = data[:1000].T\n",
    "# seperate labels and values of the dev set\n",
    "devLabels = devSet[0]\n",
    "devVals = devSet[1:n] / 255.0 # normalizing values\n",
    "\n",
    "# initialize the training set [1000:] rows and transpose\n",
    "tSet = data[1000:].T\n",
    "# seperate labels and values of the training set\n",
    "tLabels = tSet[0]\n",
    "tVals = tSet[1:n] / 255.0 # normalizing values\n",
    "\n",
    "tRows, tCols = tVals.shape"
   ]
  },
  {
   "cell_type": "code",
   "execution_count": 13,
   "metadata": {},
   "outputs": [
    {
     "ename": "TypeError",
     "evalue": "Cannot interpret '1001' as a data type",
     "output_type": "error",
     "traceback": [
      "\u001b[0;31m---------------------------------------------------------------------------\u001b[0m",
      "\u001b[0;31mTypeError\u001b[0m                                 Traceback (most recent call last)",
      "Input \u001b[0;32mIn [13]\u001b[0m, in \u001b[0;36m<cell line: 44>\u001b[0;34m()\u001b[0m\n\u001b[1;32m     41\u001b[0m \u001b[38;5;28;01mdef\u001b[39;00m \u001b[38;5;21mbackPropagation\u001b[39m(w1, b1, w2, b2, x):\n\u001b[1;32m     42\u001b[0m     \u001b[38;5;28;01mpass\u001b[39;00m\n\u001b[0;32m---> 44\u001b[0m \u001b[38;5;28mprint\u001b[39m(\u001b[43moneHotY\u001b[49m\u001b[43m(\u001b[49m\u001b[43mdevLabels\u001b[49m\u001b[43m)\u001b[49m)\n",
      "Input \u001b[0;32mIn [13]\u001b[0m, in \u001b[0;36moneHotY\u001b[0;34m(Y)\u001b[0m\n\u001b[1;32m     35\u001b[0m \u001b[38;5;28;01mdef\u001b[39;00m \u001b[38;5;21moneHotY\u001b[39m(Y):\n\u001b[0;32m---> 36\u001b[0m     oneHot \u001b[38;5;241m=\u001b[39m \u001b[43mnp\u001b[49m\u001b[38;5;241;43m.\u001b[39;49m\u001b[43mzeros\u001b[49m\u001b[43m(\u001b[49m\u001b[43mY\u001b[49m\u001b[38;5;241;43m.\u001b[39;49m\u001b[43mshape\u001b[49m\u001b[43m,\u001b[49m\u001b[43mY\u001b[49m\u001b[38;5;241;43m.\u001b[39;49m\u001b[43msize\u001b[49m\u001b[43m \u001b[49m\u001b[38;5;241;43m+\u001b[39;49m\u001b[43m \u001b[49m\u001b[38;5;241;43m1\u001b[39;49m\u001b[43m)\u001b[49m\n\u001b[1;32m     37\u001b[0m     oneHot[np\u001b[38;5;241m.\u001b[39marange(Y\u001b[38;5;241m.\u001b[39msize),Y] \u001b[38;5;241m=\u001b[39m \u001b[38;5;241m1\u001b[39m\n\u001b[1;32m     38\u001b[0m     \u001b[38;5;28;01mreturn\u001b[39;00m oneHot\n",
      "\u001b[0;31mTypeError\u001b[0m: Cannot interpret '1001' as a data type"
     ]
    }
   ],
   "source": [
    "# initialization of weights and baises\n",
    "def initalization():\n",
    "    w1 = np.random.rand(10,784) - 0.5\n",
    "    b1 = np.random.rand(10,1) - 0.5\n",
    "    w2 = np.random.rand(10,10) - 0.5\n",
    "    b2 = np.random.rand(10,1) - 0.5\n",
    "    return w1, b1, w2, b2\n",
    "\n",
    "# reLu activation function\n",
    "def reLu(x):\n",
    "    if x > 0:\n",
    "        return x\n",
    "    return 0\n",
    "\n",
    "# softMax function\n",
    "def softMax(x):\n",
    "    return np.exp(x) / sum(np.exp(x))\n",
    "\n",
    "# Forward Propagation\n",
    "def forwardPropagation(w1, b1, w2, b2, x):\n",
    "    A0 = x\n",
    "    Z1 = np.dot(w1,A0) + b1\n",
    "    A1 = reLu(Z1)\n",
    "    Z2 = np.dot(w2,A1) + b2\n",
    "    A2 = softMax(Z2)\n",
    "    return Z1, A1, Z2, A2\n",
    "\n",
    "# derivative of the ReLu function (see reLu graph in neuralNetNotes.pdf)\n",
    "def reLuDerivative(x):\n",
    "    if x < 0:\n",
    "        return 0\n",
    "    return 1\n",
    "\n",
    "# One hot Y encoding\n",
    "def oneHotY(Y):\n",
    "    oneHot = np.zeros(Y.shape,Y.size + 1)\n",
    "    oneHot[np.arange(Y.size),Y] = 1\n",
    "    return oneHot.T\n",
    "\n",
    "# Backwards Propagation\n",
    "def backPropagation(w1, b1, w2, b2, x):\n",
    "    pass\n",
    "\n",
    "print(oneHotY(devLabels))"
   ]
  }
 ],
 "metadata": {
  "kernelspec": {
   "display_name": "Python 3",
   "language": "python",
   "name": "python3"
  },
  "language_info": {
   "codemirror_mode": {
    "name": "ipython",
    "version": 3
   },
   "file_extension": ".py",
   "mimetype": "text/x-python",
   "name": "python",
   "nbconvert_exporter": "python",
   "pygments_lexer": "ipython3",
   "version": "3.10.6"
  }
 },
 "nbformat": 4,
 "nbformat_minor": 2
}
