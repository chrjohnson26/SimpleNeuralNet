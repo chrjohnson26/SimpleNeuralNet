{
 "cells": [
  {
   "cell_type": "code",
   "execution_count": 13,
   "metadata": {},
   "outputs": [],
   "source": [
    "import numpy as np\n",
    "import pandas as pd\n",
    "from matplotlib import pyplot"
   ]
  },
  {
   "cell_type": "code",
   "execution_count": 14,
   "metadata": {},
   "outputs": [],
   "source": [
    "# Downloaded from http://yann.lecun.com/exdb/mnist/\n",
    "trainingImages = \"/Users/christianjohnson/Library/CloudStorage/OneDrive-HarveyMuddCollege/Neural Net/train-images.idx3-ubyte\"\n",
    "trainingLabels = \"/Users/christianjohnson/Library/CloudStorage/OneDrive-HarveyMuddCollege/Neural Net/train-labels.idx1-ubyte\"\n",
    "testImages = \"/Users/christianjohnson/Library/CloudStorage/OneDrive-HarveyMuddCollege/Neural Net/t10k-images.idx3-ubyte\"\n",
    "testLabels = \"/Users/christianjohnson/Library/CloudStorage/OneDrive-HarveyMuddCollege/Neural Net/t10k-labels.idx1-ubyte\""
   ]
  },
  {
   "cell_type": "code",
   "execution_count": 15,
   "metadata": {},
   "outputs": [],
   "source": [
    "# Downloaded from https://www.kaggle.com/datasets/oddrationale/mnist-in-csv?resource=download\n",
    "mnistTraining = \"/Users/christianjohnson/Library/CloudStorage/OneDrive-HarveyMuddCollege/Neural Net/mnistCSV/mnist_train.csv\"\n",
    "mnistTest = \"/Users/christianjohnson/Library/CloudStorage/OneDrive-HarveyMuddCollege/Neural Net/mnistCSV/mnist_test.csv\"\n",
    "data = pd.read_csv(mnistTraining)"
   ]
  },
  {
   "cell_type": "code",
   "execution_count": 17,
   "metadata": {},
   "outputs": [
    {
     "name": "stdout",
     "output_type": "stream",
     "text": [
      "(60000, 785)\n"
     ]
    }
   ],
   "source": [
    "data = np.array(data)\n",
    "# m - number of training images\n",
    "# n - label + intensity values of each pixel (28x28)\n",
    "m, n = data.shape\n",
    "\n",
    "# shuffle data\n",
    "np.random.Generator(data)\n",
    "\n",
    "# initialize the dev set (first 1000 rows)\n",
    "\n",
    "# initialize the training set [1000:] rows\n",
    "\n"
   ]
  }
 ],
 "metadata": {
  "kernelspec": {
   "display_name": "Python 3",
   "language": "python",
   "name": "python3"
  },
  "language_info": {
   "codemirror_mode": {
    "name": "ipython",
    "version": 3
   },
   "file_extension": ".py",
   "mimetype": "text/x-python",
   "name": "python",
   "nbconvert_exporter": "python",
   "pygments_lexer": "ipython3",
   "version": "3.10.6"
  }
 },
 "nbformat": 4,
 "nbformat_minor": 2
}
