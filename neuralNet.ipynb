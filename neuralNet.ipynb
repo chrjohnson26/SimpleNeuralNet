{
 "cells": [
  {
   "cell_type": "code",
   "execution_count": 8,
   "metadata": {},
   "outputs": [],
   "source": [
    "import numpy as np\n",
    "import pandas as pd\n",
    "from matplotlib import pyplot"
   ]
  },
  {
   "cell_type": "code",
   "execution_count": 9,
   "metadata": {},
   "outputs": [],
   "source": [
    "trainingImages = \"/Users/christianjohnson/Library/CloudStorage/OneDrive-HarveyMuddCollege/Neural Net/train-images.idx3-ubyte\"\n",
    "trainingLabels = \"/Users/christianjohnson/Library/CloudStorage/OneDrive-HarveyMuddCollege/Neural Net/train-labels.idx1-ubyte\"\n",
    "testImages = \"/Users/christianjohnson/Library/CloudStorage/OneDrive-HarveyMuddCollege/Neural Net/t10k-images.idx3-ubyte\"\n",
    "testLabels = \"/Users/christianjohnson/Library/CloudStorage/OneDrive-HarveyMuddCollege/Neural Net/t10k-labels.idx1-ubyte\""
   ]
  }
 ],
 "metadata": {
  "kernelspec": {
   "display_name": "Python 3",
   "language": "python",
   "name": "python3"
  },
  "language_info": {
   "codemirror_mode": {
    "name": "ipython",
    "version": 3
   },
   "file_extension": ".py",
   "mimetype": "text/x-python",
   "name": "python",
   "nbconvert_exporter": "python",
   "pygments_lexer": "ipython3",
   "version": "3.10.6"
  }
 },
 "nbformat": 4,
 "nbformat_minor": 2
}
